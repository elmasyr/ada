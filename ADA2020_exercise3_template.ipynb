{
 "cells": [
  {
   "cell_type": "markdown",
   "metadata": {},
   "source": [
    "Sam Student <br>\n",
    "student number 000000 <br>\n",
    "sam.student@utu.fi  <br>\n",
    "Month, day, 2020  <br>"
   ]
  },
  {
   "cell_type": "markdown",
   "metadata": {},
   "source": [
    "# Exercise 3 | TKO_2096 Application of Data Analysis 2020\n",
    "## Pain assessment from biosignal data"
   ]
  },
  {
   "cell_type": "markdown",
   "metadata": {},
   "source": [
    "# ¤¤¤¤ Instructions ¤¤¤¤\n",
    "K-Nearest Neighbor Classification with euclidean distance for pain intensity level prediction using biosignal features."
   ]
  },
  {
   "cell_type": "markdown",
   "metadata": {},
   "source": [
    "## Remember\n",
    "Follow the general guidelines in Moodle -- except that no pdf is needed for this exercise, especially\n",
    "- document in detail all the steps of your work: explain at each step what you are doing and why, include the code you wrote, the resulting plots and/or numbers, and analysis of the results\n",
    "- The code should be runnable as is, so the course assistants can verify your results\n",
    "- Plagiarism: trying to pass another persons work as your own result is strictly forbidden, see https://www.utu.fi/en/guidelines-for-misconduct-and-fraud-at-utu\n",
    "- Contact the course assistant responsible for the exercise if you need guidance, try to do this **well before the deadline**"
   ]
  },
  {
   "cell_type": "markdown",
   "metadata": {},
   "source": [
    "## Evaluation\n",
    "Fail/Pass/Pass with honors (+1)<br>\n",
    "Getting +1 requires a completely correct solution and also thorough analysis and discussion of the results. Bonus points are directly added to your exam points."
   ]
  },
  {
   "cell_type": "markdown",
   "metadata": {},
   "source": [
    "## Data description:\n",
    "- Original data source (open data): https://datadryad.org/stash/dataset/doi:10.5061/dryad.2b09s\n",
    "- Article describing study setup, features etc.: https://journals.plos.org/plosone/article?id=10.1371/journal.pone.0140330\n",
    "\n",
    "From the original zipped Excel, sheet 'Extracted_Features', out of 159 original biopotential features<br>\n",
    "**nine features were chosen for your analysis:**\n",
    "\n",
    "muscle **zygomaticus** electromyography (EMG)<br>\n",
    "'CH22_Sim-corr' <br>\n",
    "muscle **corrugator** electromyography (EMG)<br>\n",
    "'CH23_Sim-corr', 'CH23_A-P2P', 'CH23_E-Shannon'<br>\n",
    "muscle **trapezius** electromyography (EMG)<br>\n",
    "'CH24_Sim-corr'<br><br>\n",
    "**electrocardiography** (ECG)<br>\n",
    "'CH25_meanRR', 'CH25_slopeRR'<br><br>\n",
    "**electrodermal activity** (EDA)<br>\n",
    "'CH26_A-P2P','CH26_A-RMS'"
   ]
  },
  {
   "cell_type": "markdown",
   "metadata": {},
   "source": [
    "## Tasks:\n",
    "\n",
    "<b>Data upload:</b><br>\n",
    "1. Read data from the open data source https://raw.githubusercontent.com/elmasyr/ada/master/ex3_biovid_subset.csv<br>\n",
    "Note! Use the url to obtain the data, not a local copy of the file.<br>\n",
    "2. Check the uploaded data shortly. Note that the file contains more data than the listed features. Make sure you understand what is included in the dataset before proceeding. \n",
    "\n",
    "<b>Preprocessing:</b><br>\n",
    "3. Check the two label columns \"Label\" and \"Label_ord\" distribution, answer the question i)--iii)\n",
    "4. Check the descriptive statistics of the features, answer the question iv)\n",
    "5. Standarize data using z-score.\n",
    "6. Check the descriptive statistics of the standardized features, answer the question v)\n",
    "7. Validate the c-index code you use (your own or library version)\n",
    "\n",
    "<b>Analysis:</b><br>\n",
    "7. With kNN classification (k=29), implement *your own Leave-Subject-Out cross-validation* (do not used ready-made libraries)<br>\n",
    "Note! For kNN you can use e.g. sklearn kNN classifier\n",
    "8. Report the C-index for each subject fold and average performance\n",
    "9. Report also min, max and standard deviation of the C-indices\n",
    "10. Answer the question vi)"
   ]
  },
  {
   "cell_type": "markdown",
   "metadata": {},
   "source": [
    "## Bonus task: Leave-One-Out cross-validation"
   ]
  },
  {
   "cell_type": "markdown",
   "metadata": {},
   "source": [
    "## Exercise submission instructions\n",
    "- Report format<br>\n",
    "    - Name your work ada2019_ex3_johnson.ipynb or similarly, i.e. include your name in the filename<br>\n",
    "    - Return the jupyter notebook (.ipynb) -- NO pdf, zipped file, .py etc. please<br>\n",
    "- Deadline\n",
    "    - Wed 2020-02-05 at 23:59"
   ]
  },
  {
   "cell_type": "markdown",
   "metadata": {},
   "source": [
    "## Before submitting your work:\n",
    "- Check once more the instructions.\n",
    "- Clean it, i.e. remove all irrelevant code and text, including library imports and functions.\n",
    "- Does my code run in a feasible time? i.e. can the customer check and run the code.\n",
    "- Are all reported items clearly in the jupyter notebook? Have I answered all the questions?\n",
    "- Before submitting, with the jupyter notebook: \n",
    "    - Kernel -> Restart and run all \n",
    "    - If not error messages, save the file.\n",
    "- Is the correct version submitted?"
   ]
  },
  {
   "cell_type": "markdown",
   "metadata": {},
   "source": [
    "# ¤¤¤¤ Exercise work ¤¤¤¤"
   ]
  },
  {
   "cell_type": "markdown",
   "metadata": {},
   "source": [
    "## Import libraries"
   ]
  },
  {
   "cell_type": "code",
   "execution_count": null,
   "metadata": {},
   "outputs": [],
   "source": [
    "# In this cell import all libraries you need. For example: \n",
    "import numpy as np\n",
    "\n"
   ]
  },
  {
   "cell_type": "markdown",
   "metadata": {},
   "source": [
    "## Read and visualize the dataset"
   ]
  },
  {
   "cell_type": "markdown",
   "metadata": {},
   "source": [
    "### Upload the data and check the data dimesions (# of rows and columns)"
   ]
  },
  {
   "cell_type": "code",
   "execution_count": null,
   "metadata": {},
   "outputs": [],
   "source": [
    "# In this cell read the file from url https://raw.githubusercontent.com/elmasyr/ada/master/ex3_biovid_subset.csv\n"
   ]
  },
  {
   "cell_type": "code",
   "execution_count": null,
   "metadata": {},
   "outputs": [],
   "source": [
    "# Print the dataset dimesions (i.e. number of rows and columns)\n"
   ]
  },
  {
   "cell_type": "markdown",
   "metadata": {},
   "source": [
    "### Checks\n",
    "- dataset columns (assuming you use pandas), otherwise find some other methods to check the data content and printout the column names of the csv file\n",
    "- check the subject numbering output and format"
   ]
  },
  {
   "cell_type": "code",
   "execution_count": null,
   "metadata": {},
   "outputs": [],
   "source": [
    "# Print here the column names\n"
   ]
  },
  {
   "cell_type": "code",
   "execution_count": null,
   "metadata": {},
   "outputs": [],
   "source": [
    "# Print out first five (5) unique subject identifications\n"
   ]
  },
  {
   "cell_type": "markdown",
   "metadata": {},
   "source": [
    "### Plot \n",
    "- Plot all features (or numeric columns) in one plot (preferably subplots)<br>\n",
    "Note! plot should be visible in the jupyter notebook"
   ]
  },
  {
   "cell_type": "code",
   "execution_count": null,
   "metadata": {},
   "outputs": [],
   "source": [
    "# Plot here all features\n"
   ]
  },
  {
   "cell_type": "markdown",
   "metadata": {},
   "source": [
    "## Preprocessing"
   ]
  },
  {
   "cell_type": "markdown",
   "metadata": {},
   "source": [
    "### Printout or plot the distribution of the column 'Label'"
   ]
  },
  {
   "cell_type": "code",
   "execution_count": null,
   "metadata": {},
   "outputs": [],
   "source": [
    "# Write your code here\n"
   ]
  },
  {
   "cell_type": "markdown",
   "metadata": {},
   "source": [
    "### <span style='background :yellow'> Questions i-ii </span>\n",
    "i) Is the label evenly distributed?<br>\n",
    "ii) Is the label order logical? Can this label be used in comparing relative ordering/ranking of the data points?"
   ]
  },
  {
   "cell_type": "markdown",
   "metadata": {},
   "source": [
    "Answer here:<br>\n",
    "i)  <br>\n",
    "ii)"
   ]
  },
  {
   "cell_type": "markdown",
   "metadata": {},
   "source": [
    "### Printout or plot the distribution of the column 'Label_ord'"
   ]
  },
  {
   "cell_type": "code",
   "execution_count": null,
   "metadata": {},
   "outputs": [],
   "source": [
    "# Write your code here\n"
   ]
  },
  {
   "cell_type": "markdown",
   "metadata": {},
   "source": [
    "### <span style='background :yellow'> Question iii </span>\n",
    "iii) Which one of the labels should be used in classification? Why?"
   ]
  },
  {
   "cell_type": "markdown",
   "metadata": {},
   "source": [
    "Answer here:<br>\n",
    "iii) "
   ]
  },
  {
   "cell_type": "markdown",
   "metadata": {},
   "source": [
    "## Standardization"
   ]
  },
  {
   "cell_type": "markdown",
   "metadata": {},
   "source": [
    "### Print the descriptive statistics of the features \n",
    "- at least count, mean, std, min and max need to be shown\n",
    "- no plotting"
   ]
  },
  {
   "cell_type": "code",
   "execution_count": null,
   "metadata": {},
   "outputs": [],
   "source": [
    "# Write your code here\n"
   ]
  },
  {
   "cell_type": "markdown",
   "metadata": {},
   "source": [
    "### <span style='background :yellow'> Question iv </span>\n",
    "iv) Why do the features need to be standardized?"
   ]
  },
  {
   "cell_type": "markdown",
   "metadata": {},
   "source": [
    "Answer here:<br>\n",
    "iv) "
   ]
  },
  {
   "cell_type": "markdown",
   "metadata": {},
   "source": [
    "### Standardize the dataset features using z-score standardization"
   ]
  },
  {
   "cell_type": "code",
   "execution_count": null,
   "metadata": {},
   "outputs": [],
   "source": [
    "#Use this cell for the z-score standardization\n",
    "\n"
   ]
  },
  {
   "cell_type": "markdown",
   "metadata": {},
   "source": [
    "### Check the outcome, descriptive statistics of the standardized features\n",
    "- at least count, mean, std, min and max need to be shown"
   ]
  },
  {
   "cell_type": "code",
   "execution_count": null,
   "metadata": {},
   "outputs": [],
   "source": [
    "# Write your code here\n",
    "\n"
   ]
  },
  {
   "cell_type": "markdown",
   "metadata": {},
   "source": [
    "### <span style='background :yellow'> Question v <span>\n",
    "v) What are the mean and the standard deviation of the standardized features?"
   ]
  },
  {
   "cell_type": "markdown",
   "metadata": {},
   "source": [
    "Answer here:<br>\n",
    "v) "
   ]
  },
  {
   "cell_type": "markdown",
   "metadata": {},
   "source": [
    "## C-index code "
   ]
  },
  {
   "cell_type": "code",
   "execution_count": null,
   "metadata": {},
   "outputs": [],
   "source": [
    "'''given true labels and corresponding predictions, \n",
    "calculates the C-index score\n",
    "Note! You can also use an existing library version of the concordance index'''\n",
    "def cindex(true_labels, pred_labels):\n",
    "\n",
    "    return cindx"
   ]
  },
  {
   "cell_type": "markdown",
   "metadata": {},
   "source": [
    "### Test c-index function"
   ]
  },
  {
   "cell_type": "code",
   "execution_count": null,
   "metadata": {},
   "outputs": [],
   "source": [
    "#test cindex function with following values\n",
    "#additionally you can add your own short test to show \n",
    "true_labels = [0, 1, 4, 0, 4]\n",
    "predictions = [4, 1, 4, 0, 4]\n",
    "cindx = cindex(true_labels, predictions)\n",
    "print(cindx)"
   ]
  },
  {
   "cell_type": "markdown",
   "metadata": {},
   "source": [
    "## Analysis\n",
    "\n",
    "With kNN classification (k=29), implement Leave-Subject-Out cross-validation and calculate the C-index for each subject\n",
    "- printout the C-indices for 10 fist subjects\n",
    "- calculate and printout average of all subject fold C-indices\n",
    "- calculate and printout the min, max, standard deviation of all subject specific C-indices"
   ]
  },
  {
   "cell_type": "markdown",
   "metadata": {},
   "source": [
    "### Functions"
   ]
  },
  {
   "cell_type": "code",
   "execution_count": null,
   "metadata": {},
   "outputs": [],
   "source": [
    "# Include here all the functions that you need to run in the data analysis part.\n",
    "# If you have several functions, consider putting them in separate cells, might make the testing and browsing easier\n"
   ]
  },
  {
   "cell_type": "markdown",
   "metadata": {},
   "source": [
    "### Results for Leave-Subject-Out cross-validation"
   ]
  },
  {
   "cell_type": "code",
   "execution_count": null,
   "metadata": {},
   "outputs": [],
   "source": [
    "# In this cell run your script for leave-Subject-Out cross-validation and print the C-indices for 10 first subject folds.\n",
    "# In this cell, or in an additional one, printout the average of all indices.\n",
    "# In this cell, or in an additional one, printout the min, max and std of all indices.\n",
    "\n",
    "\n"
   ]
  },
  {
   "cell_type": "markdown",
   "metadata": {},
   "source": [
    "### <span style='background :yellow'>Question vi</span> -- Interpretation of results\n",
    "vi) What is your interpretation on the results?"
   ]
  },
  {
   "cell_type": "markdown",
   "metadata": {},
   "source": [
    "Answer here:<br>\n",
    "vi) "
   ]
  },
  {
   "cell_type": "markdown",
   "metadata": {},
   "source": [
    "# ¤¤¤¤ Bonus exercise ¤¤¤¤\n",
    "B1) Calculate the C-index for the previous LSO-CV using all real labels and all predictions (instead of averaging them all)<br>\n",
    "B2) With kNN classification (k=29), implement Leave-One-Out cross-validation and calculate performance with C-index calculation all real labels and all predictions"
   ]
  },
  {
   "cell_type": "markdown",
   "metadata": {},
   "source": [
    "### Bonus: Results for Leave-One-Out cross-validation"
   ]
  },
  {
   "cell_type": "code",
   "execution_count": null,
   "metadata": {},
   "outputs": [],
   "source": [
    "# In this cell run your script for leave-One-Out cross-validation and print the individual C-indices\n"
   ]
  },
  {
   "cell_type": "markdown",
   "metadata": {},
   "source": [
    "### <span style='background :yellow'>Bonus: Questions</span>\n",
    "vii) Present the results of average C-index performance from the LSO and LOO cross-validation. Do they differ? <br>\n",
    "viii) What is your interpretation on the results?"
   ]
  },
  {
   "cell_type": "markdown",
   "metadata": {},
   "source": [
    "Answer here:<br>\n",
    "vii) <br>\n",
    "viii)"
   ]
  }
 ],
 "metadata": {
  "kernelspec": {
   "display_name": "Python 3",
   "language": "python",
   "name": "python3"
  },
  "language_info": {
   "codemirror_mode": {
    "name": "ipython",
    "version": 3
   },
   "file_extension": ".py",
   "mimetype": "text/x-python",
   "name": "python",
   "nbconvert_exporter": "python",
   "pygments_lexer": "ipython3",
   "version": "3.7.3"
  },
  "toc": {
   "base_numbering": 1,
   "nav_menu": {},
   "number_sections": false,
   "sideBar": true,
   "skip_h1_title": false,
   "title_cell": "Table of Contents",
   "title_sidebar": "Contents",
   "toc_cell": false,
   "toc_position": {},
   "toc_section_display": true,
   "toc_window_display": false
  },
  "varInspector": {
   "cols": {
    "lenName": 16,
    "lenType": 16,
    "lenVar": 40
   },
   "kernels_config": {
    "python": {
     "delete_cmd_postfix": "",
     "delete_cmd_prefix": "del ",
     "library": "var_list.py",
     "varRefreshCmd": "print(var_dic_list())"
    },
    "r": {
     "delete_cmd_postfix": ") ",
     "delete_cmd_prefix": "rm(",
     "library": "var_list.r",
     "varRefreshCmd": "cat(var_dic_list()) "
    }
   },
   "types_to_exclude": [
    "module",
    "function",
    "builtin_function_or_method",
    "instance",
    "_Feature"
   ],
   "window_display": false
  }
 },
 "nbformat": 4,
 "nbformat_minor": 2
}
